{
 "cells": [
  {
   "cell_type": "markdown",
   "metadata": {},
   "source": [
    "### DATA INGESTION - Documentloaders"
   ]
  },
  {
   "cell_type": "code",
   "execution_count": null,
   "metadata": {},
   "outputs": [],
   "source": []
  },
  {
   "cell_type": "code",
   "execution_count": 18,
   "metadata": {},
   "outputs": [
    {
     "data": {
      "text/plain": [
       "<langchain_community.document_loaders.text.TextLoader at 0x2934bbee920>"
      ]
     },
     "execution_count": 18,
     "metadata": {},
     "output_type": "execute_result"
    }
   ],
   "source": [
    "## Text loader\n",
    "\n",
    "from langchain_community.document_loaders import TextLoader\n",
    "\n",
    "loader = TextLoader('speech.txt')\n",
    "loader\n",
    "\n"
   ]
  },
  {
   "cell_type": "code",
   "execution_count": 23,
   "metadata": {},
   "outputs": [
    {
     "data": {
      "text/plain": [
       "[Document(metadata={'source': 'speech.txt'}, page_content='\\nI am thrilled to apply for the Java Developer role within the Bureau of Information Technology at the Wisconsin Department of Transportation (WisDOT). With over three years of experience in Java development, I bring proven skills in application modernization, cross-functional collaboration, and enterprise-level systems integration that align strongly with WisDOT’s requirements.\\n\\nRelevant Skills and Experience\\nJava & Spring Boot Development\\nI have substantial experience in Java and Spring Boot for backend solutions, as demonstrated by my work at Deloitte Consulting and HEPHIUM. At Deloitte, I implemented secure APIs using Spring, Hibernate, and Spring Security protocols like SAML2 and OAuth2.0, which directly aligns with WisDOT’s focus on robust application solutions. At HEPHIUM, I developed a high-performing API architecture that reduced data retrieval times significantly, showcasing my commitment to optimized, scalable applications.\\n\\nApplication Modernization\\nIn my previous roles, I have successfully led modernization efforts. For example, at Deloitte, I improved data transaction efficiency by integrating MySQL with Redis for session management, which reduced processing times and increased scalability. This experience will be valuable as WisDOT continues its modernization initiatives.\\n\\nCollaborative Development\\nI am experienced in working across departments to deliver impactful results. At BUILD SYNC, I collaborated with diverse teams to integrate large language models (LLMs) for AI-driven scene generation, demonstrating my adaptability and technical versatility in complex environments.\\n')]"
      ]
     },
     "execution_count": 23,
     "metadata": {},
     "output_type": "execute_result"
    }
   ],
   "source": [
    "text_documents = loader.load()\n",
    "text_documents"
   ]
  },
  {
   "cell_type": "code",
   "execution_count": null,
   "metadata": {},
   "outputs": [],
   "source": [
    "# Reading a pdf file\n",
    "\n",
    "from langchain_community.document_loaders import PyPDFLoader\n",
    "\n",
    "loader = PyPDFLoader('Lease.pdf')\n",
    "\n",
    "\n",
    "# every page is converted to document format\n",
    "docs = loader.load()"
   ]
  },
  {
   "cell_type": "code",
   "execution_count": 29,
   "metadata": {},
   "outputs": [
    {
     "data": {
      "text/plain": [
       "langchain_core.documents.base.Document"
      ]
     },
     "execution_count": 29,
     "metadata": {},
     "output_type": "execute_result"
    }
   ],
   "source": [
    "type(docs[0])"
   ]
  },
  {
   "cell_type": "code",
   "execution_count": null,
   "metadata": {},
   "outputs": [],
   "source": [
    "## web based loader\n",
    "\n",
    "from langchain_community.document_loaders import WebBaseLoader\n",
    "\n",
    "loader = WebBaseLoader('https://www.history.com/topics/black-history/martin-luther-king-jr-assassination')\n",
    "\n",
    "web_documents = loader.load()"
   ]
  },
  {
   "cell_type": "code",
   "execution_count": null,
   "metadata": {},
   "outputs": [],
   "source": []
  },
  {
   "cell_type": "code",
   "execution_count": null,
   "metadata": {},
   "outputs": [],
   "source": []
  }
 ],
 "metadata": {
  "kernelspec": {
   "display_name": "Python 3",
   "language": "python",
   "name": "python3"
  },
  "language_info": {
   "codemirror_mode": {
    "name": "ipython",
    "version": 3
   },
   "file_extension": ".py",
   "mimetype": "text/x-python",
   "name": "python",
   "nbconvert_exporter": "python",
   "pygments_lexer": "ipython3",
   "version": "3.10.0"
  }
 },
 "nbformat": 4,
 "nbformat_minor": 2
}
